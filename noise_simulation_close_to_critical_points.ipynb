{
 "cells": [
  {
   "cell_type": "code",
   "execution_count": 1,
   "metadata": {},
   "outputs": [
    {
     "name": "stderr",
     "output_type": "stream",
     "text": [
      "C:\\ProgramData\\Anaconda3\\lib\\site-packages\\requests\\__init__.py:91: RequestsDependencyWarning: urllib3 (1.26.6) or chardet (3.0.4) doesn't match a supported version!\n",
      "  RequestsDependencyWarning)\n"
     ]
    }
   ],
   "source": [
    "import numpy as np\n",
    "import matplotlib.pyplot as plt\n",
    "from math import pi\n",
    "from numpy import linalg as LA\n",
    "\n",
    "import qiskit\n",
    "from qiskit import QuantumCircuit, QuantumRegister, ClassicalRegister\n",
    "import qiskit.tools.visualization as qkviz\n",
    "from qiskit.tools.visualization import circuit_drawer\n",
    "from qiskit.tools.monitor import job_monitor\n",
    "from qiskit import BasicAer\n",
    "\n",
    "from qiskit import execute, Aer, IBMQ\n",
    "\n",
    "\n",
    "# Import from Qiskit Aer noise module\n",
    "from qiskit.providers.aer.noise import NoiseModel\n",
    "import qiskit.providers.aer.noise as noise"
   ]
  },
  {
   "cell_type": "code",
   "execution_count": 2,
   "metadata": {},
   "outputs": [],
   "source": [
    "def Ang_theta(Delta0,k_vec):\n",
    "    kx = k_vec[0]\n",
    "    ky = k_vec[1]\n",
    "    Delta = Delta0 + np.cos(kx) + np.cos(ky)\n",
    "    T = np.sin(kx)\n",
    "    D = np.sin(ky)\n",
    "    E = np.sqrt(T**2 + D**2 + Delta**2)\n",
    "    Inp = np.sqrt(T**2 + D**2) # Inp always larger than 0\n",
    "    theta = np.arctan2(Inp,Delta)\n",
    "    return theta\n",
    "\n",
    "def Ang_varphi(Delta0,k_vec):\n",
    "    kx = k_vec[0]\n",
    "    ky = k_vec[1]\n",
    "    T = np.sin(kx)\n",
    "    D = np.sin(ky)\n",
    "    Inp = np.sqrt(T**2 + D**2)\n",
    "    if Inp<=1e-10:\n",
    "        varphi = 0\n",
    "    else:\n",
    "        varphi = np.arctan2(D,T)\n",
    "    return varphi\n",
    "\n",
    "def build_U(vec1,vec2):\n",
    "    in_product = np.dot(vec1,vec2.conj())\n",
    "\n",
    "    U = in_product / np.abs(in_product)\n",
    "\n",
    "    return U"
   ]
  },
  {
   "cell_type": "code",
   "execution_count": 3,
   "metadata": {},
   "outputs": [],
   "source": [
    "def xlink(Delta0, kx, ky, Dkx):\n",
    "    Nx = len(kx)\n",
    "    Ny = len(ky)\n",
    "    Ux = np.zeros((Nx*Ny),complex)\n",
    "    for nx in range(Nx):\n",
    "        for ny in range(Ny):\n",
    "            k = np.array([kx[nx],ky[ny]], float)\n",
    "            theta = Ang_theta(Delta0,k)\n",
    "            varphi = Ang_varphi(Delta0,k)\n",
    "            psi = np.array([-np.sin(theta/2)*np.exp(1j*varphi),np.cos(theta/2)])\n",
    "            ############\n",
    "            k = np.array([kx[nx]+Dkx,ky[ny]], float)\n",
    "            theta = Ang_theta(Delta0,k)\n",
    "            varphi = Ang_varphi(Delta0,k)\n",
    "            psiDx = np.array([-np.sin(theta/2)*np.exp(1j*varphi),np.cos(theta/2)])\n",
    "            Ux[nx*Ny+ny] = build_U(psi, psiDx )\n",
    "    return Ux\n",
    "\n",
    "def ylink(Delta0, kx, ky, Dky):\n",
    "    Nx = len(kx)\n",
    "    Ny = len(ky)\n",
    "    Uy = np.zeros((Nx*Ny),complex)\n",
    "    for nx in range(Nx):\n",
    "        for ny in range(Ny):\n",
    "            k = np.array([kx[nx],ky[ny]], float)\n",
    "            theta = Ang_theta(Delta0,k)\n",
    "            varphi = Ang_varphi(Delta0,k)\n",
    "            psi = np.array([-np.sin(theta/2)*np.exp(1j*varphi),np.cos(theta/2)])\n",
    "            ############\n",
    "            k = np.array([kx[nx],ky[ny]+Dky], float)\n",
    "            theta = Ang_theta(Delta0,k)\n",
    "            varphi = Ang_varphi(Delta0,k)\n",
    "            psiDy = np.array([-np.sin(theta/2)*np.exp(1j*varphi),np.cos(theta/2)])\n",
    "            Uy[nx*Ny+ny] = build_U(psi, psiDy )\n",
    "    return Uy"
   ]
  },
  {
   "cell_type": "code",
   "execution_count": 4,
   "metadata": {},
   "outputs": [],
   "source": [
    "N = 8\n",
    "kx = np.arange(0,N,1)*2*pi/N\n",
    "ky = np.arange(0,N,1)*2*pi/N\n",
    "Dkx = (2.*pi)/N\n",
    "Dky = (2.*pi)/N\n",
    "\n",
    "Ny = len(ky)\n",
    "\n",
    "Dlist0=np.linspace(-2.1,-1.9,21)\n",
    "\n",
    "chernN = np.zeros(len(Dlist0))\n",
    "for nd, Delta in enumerate(Dlist0):\n",
    "    Ux = xlink(Delta, kx, ky, Dkx)\n",
    "    Uy = ylink(Delta, kx, ky, Dky)\n",
    "    sumNc = 0\n",
    "    for nx in range(len(kx)):\n",
    "        for ny in range(len(ky)):\n",
    "            U1x = Ux[nx*Ny+ny]\n",
    "            U2y = Uy[nx*Ny+ny]\n",
    "            if ny+1==Ny:\n",
    "                U1y = Ux[nx*Ny]\n",
    "            else:\n",
    "                U1y = Ux[nx*Ny+(ny+1)]\n",
    "            if nx+1==Ny:\n",
    "                U2x = Uy[ny]\n",
    "            else:\n",
    "                U2x = Uy[(nx+1)*Ny+ny]\n",
    "            LF = np.log( U1x * U2x * 1./U1y * 1./U2y)\n",
    "            sumNc += LF\n",
    "    chernN[nd] = sumNc.imag/(2.*pi)"
   ]
  },
  {
   "cell_type": "code",
   "execution_count": 5,
   "metadata": {},
   "outputs": [
    {
     "data": {
      "text/plain": [
       "[<matplotlib.lines.Line2D at 0x1505f59a408>]"
      ]
     },
     "execution_count": 5,
     "metadata": {},
     "output_type": "execute_result"
    },
    {
     "data": {
      "image/png": "[encoded data removed]",
      "text/plain": [
       "<Figure size 432x288 with 1 Axes>"
      ]
     },
     "metadata": {
      "needs_background": "light"
     },
     "output_type": "display_data"
    }
   ],
   "source": [
    "plt.plot(Dlist0,chernN,'k-',label=r'Exact')"
   ]
  },
  {
   "cell_type": "code",
   "execution_count": 6,
   "metadata": {},
   "outputs": [],
   "source": [
    "def U(qc,qt,theta,phi,lam):\n",
    "    qc.cx(qt[2],qt[1])\n",
    "    qc.cu3(theta, phi, lam, qt[1], qt[2])\n",
    "    qc.cx(qt[2],qt[1])\n",
    "    \n",
    "def CCU1(qc,qt,theta,phi,lam):\n",
    "    qc.cu3(theta, -lam+pi, -phi+pi, qt[1], qt[2])\n",
    "    qc.cx(qt[0],qt[1])\n",
    "    qc.cu3(theta, phi, lam, qt[1], qt[2])\n",
    "    qc.cx(qt[0],qt[1])\n",
    "    qc.cu3(theta, -lam+pi, -phi+pi, qt[0], qt[2])\n",
    "    \n",
    "def CCU(qc,qt,theta,phi,lam):\n",
    "    qc.cu3(theta, phi, lam, qt[1], qt[2])\n",
    "    qc.cx(qt[0],qt[1])\n",
    "    qc.cu3(theta, -lam+pi, -phi+pi, qt[1], qt[2])\n",
    "    qc.cx(qt[0],qt[1])\n",
    "    qc.cu3(theta, phi, lam, qt[0], qt[2])\n",
    "    \n",
    "def BC_real(qc, qt, c, theta1, phi1, lam1, theta2, lam2, phi2):\n",
    "    qc.h(qt[0])\n",
    "    qc.x(qt[2])\n",
    "    U(qc,qt,theta1,phi1,lam1)\n",
    "    qc.ccx(qt[0],qt[2],qt[1])\n",
    "    CCU1(qc,qt,theta1/2,phi1,lam1)\n",
    "    CCU(qc,qt,theta2/2,phi2,lam2)\n",
    "    qc.ccx(qt[0],qt[2],qt[1])\n",
    "    qc.u3(-pi/2,0,0,qt[0])\n",
    "    qc.barrier(qt)\n",
    "    qc.measure(qt[0], c[0])\n",
    "    \n",
    "def BC_imag(qc, qt, c, theta1, phi1, lam1, theta2, lam2, phi2):\n",
    "    qc.h(qt[0])\n",
    "    qc.x(qt[2])\n",
    "    U(qc,qt,theta1,phi1,lam1)\n",
    "    qc.ccx(qt[0],qt[2],qt[1])\n",
    "    CCU1(qc,qt,theta1/2,phi1,lam1)\n",
    "    CCU(qc,qt,theta2/2,phi2,lam2)\n",
    "    qc.ccx(qt[0],qt[2],qt[1])\n",
    "    qc.u3(pi/2,-pi/2,pi/2,qt[0])\n",
    "    qc.barrier(qt)\n",
    "    qc.measure(qt[0], c[0])\n",
    "    \n",
    "def buildR(theta,thetap,varphi,varphip):\n",
    "    \n",
    "    qt = QuantumRegister(3,'sys')\n",
    "    c = ClassicalRegister(1)\n",
    "    qc = QuantumCircuit(qt, c)\n",
    "    \n",
    "    theta1 = theta\n",
    "    theta2 = thetap\n",
    "    lam1 = -varphi\n",
    "    phi1 = varphi\n",
    "    lam2 = -varphip\n",
    "    phi2 = varphip\n",
    "    \n",
    "    BC_real(qc, qt, c, theta1, phi1, lam1, theta2, lam2, phi2)\n",
    "\n",
    "    return qc\n",
    "\n",
    "def buildI(theta,thetap,varphi,varphip):\n",
    "    \n",
    "    qt = QuantumRegister(3,'sys')\n",
    "    c = ClassicalRegister(1)\n",
    "    qc = QuantumCircuit(qt, c)\n",
    "    \n",
    "    theta1 = theta\n",
    "    theta2 = thetap\n",
    "    lam1 = -varphi\n",
    "    phi1 = varphi\n",
    "    lam2 = -varphip\n",
    "    phi2 = varphip\n",
    "    \n",
    "    BC_imag(qc, qt, c, theta1, phi1, lam1, theta2, lam2, phi2)\n",
    "\n",
    "    return qc\n",
    "\n",
    "def Ux_circuit(Delta0, kx, ky, Dkx):\n",
    "    Nx = len(kx)\n",
    "    Ny = len(ky)\n",
    "    circuits = []\n",
    "    for nx in range(Nx):\n",
    "        for ny in range(Ny):\n",
    "            k = np.array([kx[nx],ky[ny]], float)\n",
    "            theta = Ang_theta(Delta0,k)\n",
    "            varphi = Ang_varphi(Delta0,k)\n",
    "            ### neighbored\n",
    "            k = np.array([kx[nx]+Dkx,ky[ny]], float)\n",
    "            thetapx = Ang_theta(Delta0,k)\n",
    "            varphipx = Ang_varphi(Delta0,k)\n",
    "            #### real circuit append\n",
    "            qc = buildR(theta,thetapx,varphi,varphipx)\n",
    "            circuits.append(qc)\n",
    "            #### imaginary circuit append\n",
    "            qc = buildI(theta,thetapx,varphi,varphipx)\n",
    "            circuits.append(qc)\n",
    "    return circuits\n",
    "\n",
    "def Uy_circuit(Delta0, kx, ky, Dky):\n",
    "    Nx = len(kx)\n",
    "    Ny = len(ky)\n",
    "    circuits = []\n",
    "    for nx in range(Nx):\n",
    "        for ny in range(Ny):\n",
    "            k = np.array([kx[nx],ky[ny]], float)\n",
    "            theta = Ang_theta(Delta0,k)\n",
    "            varphi = Ang_varphi(Delta0,k)\n",
    "            ### neighbored\n",
    "            k = np.array([kx[nx],ky[ny]+Dky], float)\n",
    "            thetapx = Ang_theta(Delta0,k)\n",
    "            varphipx = Ang_varphi(Delta0,k)\n",
    "            #### real circuit append\n",
    "            qc = buildR(theta,thetapx,varphi,varphipx)\n",
    "            circuits.append(qc)\n",
    "            #### imaginary circuit append\n",
    "            qc = buildI(theta,thetapx,varphi,varphipx)\n",
    "            circuits.append(qc)\n",
    "    return circuits"
   ]
  },
  {
   "cell_type": "code",
   "execution_count": 7,
   "metadata": {},
   "outputs": [],
   "source": [
    "def obtain_result(joblist,nshots,Num):\n",
    "    result = joblist.result()\n",
    "    Uc = np.zeros((Num),complex)\n",
    "    for nx in range(Num):\n",
    "        Rets= np.zeros(2)\n",
    "        for n in range(2):\n",
    "            num = result.get_counts(n+2*nx)\n",
    "            r=list(num.keys())\n",
    "            a=list(num.values())\n",
    "            Num_Sta = np.zeros(2)\n",
    "            coe = np.zeros(2)\n",
    "            for j in range(0,len(r)):\n",
    "                label = [ int(s) for s in r[j] ]\n",
    "                lab_state = 0\n",
    "                for m in range(len(label)):\n",
    "                    lab_state = lab_state + 2**m*label[m]\n",
    "                Num_Sta[lab_state] = a[j]/nshots\n",
    "                coe[lab_state] =(-1)**(np.sum(label))\n",
    "            Rets[n] = np.dot(coe,Num_Sta)\n",
    "        UR = Rets[0]\n",
    "        UI = Rets[1]\n",
    "        Uc[nx] = (UR + 1j*UI) / np.abs(UR + 1j*UI)\n",
    "    return Uc"
   ]
  },
  {
   "cell_type": "code",
   "execution_count": 8,
   "metadata": {},
   "outputs": [],
   "source": [
    "def get_Chern(kx,ky,Ux,Uy):\n",
    "    sumNc = 0\n",
    "    for nx in range(len(kx)):\n",
    "        for ny in range(len(ky)):\n",
    "            U1x = Ux[nx*Ny+ny]\n",
    "            U2y = Uy[nx*Ny+ny]\n",
    "            if ny+1==Ny:\n",
    "                U1y = Ux[nx*Ny]\n",
    "            else:\n",
    "                U1y = Ux[nx*Ny+(ny+1)]\n",
    "            if nx+1==Ny:\n",
    "                U2x = Uy[ny]\n",
    "            else:\n",
    "                U2x = Uy[(nx+1)*Ny+ny]\n",
    "            LF = np.log( U1x * U2x * 1./U1y * 1./U2y)\n",
    "            sumNc += LF\n",
    "    ChernNum = sumNc.imag/(2.*pi)\n",
    "    return ChernNum"
   ]
  },
  {
   "cell_type": "code",
   "execution_count": 9,
   "metadata": {},
   "outputs": [],
   "source": [
    "backend_sim = BasicAer.get_backend('qasm_simulator')\n",
    "nshots=1024*5\n",
    "\n",
    "# Error probabilities 010\n",
    "prob_1 = 0.006  # 1-qubit gate\n",
    "prob_2 = 10*prob_1   # 2-qubit gate\n",
    "\n",
    "# Depolarizing quantum errors\n",
    "error_1 = noise.depolarizing_error(prob_1, 1)\n",
    "error_2 = noise.depolarizing_error(prob_2, 2)\n",
    "\n",
    "# Add errors to noise model\n",
    "noise_model = noise.NoiseModel()\n",
    "noise_model.add_all_qubit_quantum_error(error_1, ['u1', 'u2', 'u3'])\n",
    "noise_model.add_all_qubit_quantum_error(error_2, ['cx'])\n",
    "\n",
    "# Get basis gates from noise model\n",
    "basis_gates = noise_model.basis_gates"
   ]
  },
  {
   "cell_type": "code",
   "execution_count": 21,
   "metadata": {},
   "outputs": [
    {
     "name": "stdout",
     "output_type": "stream",
     "text": [
      "[-2.0101 -2.0091 -2.0081 -2.0071 -2.0061 -2.0051 -2.0041 -2.0031 -2.0021\n",
      " -2.0011 -2.0001 -1.9991 -1.9981 -1.9971 -1.9961 -1.9951 -1.9941 -1.9931\n",
      " -1.9921 -1.9911 -1.9901]\n"
     ]
    }
   ],
   "source": [
    "Dlist=np.linspace(-2.0101,-1.9901,21)\n",
    "print(Dlist)"
   ]
  },
  {
   "cell_type": "code",
   "execution_count": 19,
   "metadata": {},
   "outputs": [
    {
     "name": "stdout",
     "output_type": "stream",
     "text": [
      "0\n",
      "1\n",
      "2\n",
      "3\n",
      "4\n",
      "5\n",
      "6\n",
      "7\n",
      "8\n",
      "9\n",
      "10\n",
      "11\n",
      "12\n",
      "13\n",
      "14\n",
      "15\n",
      "16\n",
      "17\n",
      "18\n",
      "19\n",
      "20\n",
      "21\n",
      "22\n",
      "23\n",
      "24\n",
      "25\n",
      "26\n",
      "27\n",
      "28\n",
      "29\n",
      "30\n",
      "31\n",
      "32\n",
      "33\n",
      "34\n",
      "35\n",
      "36\n",
      "37\n",
      "38\n",
      "39\n",
      "40\n",
      "41\n",
      "42\n",
      "43\n",
      "44\n",
      "45\n",
      "46\n",
      "47\n",
      "48\n",
      "49\n"
     ]
    }
   ],
   "source": [
    "Dlist=np.linspace(-2.0101,-1.9901,21)\n",
    "ChernNum006 = np.zeros((len(Dlist),50),dtype=float)\n",
    "for n_repeat in range(50):\n",
    "    for nd, Delta in enumerate(Dlist):\n",
    "        gap = Delta\n",
    "        ## x-links\n",
    "        circx = Ux_circuit(Delta, kx, ky, Dkx)\n",
    "        qobj=qiskit.transpile(circx,initial_layout=[0,1,2])\n",
    "        job = execute(qobj, Aer.get_backend('qasm_simulator'), \n",
    "                      basis_gates=basis_gates,shots=nshots, \n",
    "                      noise_model=noise_model)\n",
    "        Ux = obtain_result(job,nshots,N**2)\n",
    "        ## y-links\n",
    "        circy = Uy_circuit(Delta, kx, ky, Dky)\n",
    "        qobj=qiskit.transpile(circy,initial_layout=[0,1,2])\n",
    "        job = execute(qobj, Aer.get_backend('qasm_simulator'), \n",
    "                      basis_gates=basis_gates,shots=nshots, \n",
    "                      noise_model=noise_model)\n",
    "        Uy = obtain_result(job,nshots,N**2)\n",
    "        ChernNum006[nd,n_repeat] = get_Chern(kx,ky,Ux,Uy)\n",
    "    print(n_repeat)"
   ]
  },
  {
   "cell_type": "code",
   "execution_count": 23,
   "metadata": {},
   "outputs": [
    {
     "data": {
      "image/png": "[encoded data removed]",
      "text/plain": [
       "<Figure size 432x288 with 1 Axes>"
      ]
     },
     "metadata": {
      "needs_background": "light"
     },
     "output_type": "display_data"
    }
   ],
   "source": [
    "fig, axs = plt.subplots(1, 1)\n",
    "axs.plot(Dlist,np.mean(ChernNum006,axis=1),'-o')\n",
    "axs.set_ylabel(r'Chern Number $\\mathcal{C}$',fontsize=16)\n",
    "axs.set_xlabel(r'$\\mu$',fontsize=16)\n",
    "axs.set_xticks([-2.01,-2.005,-2,-1.995,-1.99])\n",
    "axs.set_xticklabels(['-2.01','-2.005','-2','-1.995','-1.99'])\n",
    "plt.savefig('close_critical_0.pdf', bbox_inches='tight')"
   ]
  },
  {
   "cell_type": "code",
   "execution_count": 20,
   "metadata": {},
   "outputs": [],
   "source": [
    "np.save(\"ChernNum006_am2.npy\",ChernNum006)\n",
    "np.save(\"Dlist_am2.npy\",Dlist)"
   ]
  },
  {
   "cell_type": "code",
   "execution_count": 10,
   "metadata": {},
   "outputs": [
    {
     "name": "stdout",
     "output_type": "stream",
     "text": [
      "0\n",
      "1\n",
      "2\n",
      "3\n",
      "4\n",
      "5\n",
      "6\n",
      "7\n",
      "8\n",
      "9\n",
      "10\n",
      "11\n",
      "12\n",
      "13\n",
      "14\n",
      "15\n",
      "16\n",
      "17\n",
      "18\n",
      "19\n",
      "20\n",
      "21\n",
      "22\n",
      "23\n",
      "24\n",
      "25\n",
      "26\n",
      "27\n",
      "28\n",
      "29\n",
      "30\n",
      "31\n",
      "32\n",
      "33\n",
      "34\n",
      "35\n",
      "36\n",
      "37\n",
      "38\n",
      "39\n",
      "40\n",
      "41\n",
      "42\n",
      "43\n",
      "44\n",
      "45\n",
      "46\n",
      "47\n",
      "48\n",
      "49\n"
     ]
    }
   ],
   "source": [
    "Dlist1=np.linspace(2-2.0101,2-1.9901,21)\n",
    "ChernNum006_1 = np.zeros((len(Dlist1),50),dtype=float)\n",
    "for n_repeat in range(50):\n",
    "    for nd, Delta in enumerate(Dlist1):\n",
    "        gap = Delta\n",
    "        ## x-links\n",
    "        circx = Ux_circuit(Delta, kx, ky, Dkx)\n",
    "        qobj=qiskit.transpile(circx,initial_layout=[0,1,2])\n",
    "        job = execute(qobj, Aer.get_backend('qasm_simulator'), \n",
    "                      basis_gates=basis_gates,shots=nshots, \n",
    "                      noise_model=noise_model)\n",
    "        Ux = obtain_result(job,nshots,N**2)\n",
    "        ## y-links\n",
    "        circy = Uy_circuit(Delta, kx, ky, Dky)\n",
    "        qobj=qiskit.transpile(circy,initial_layout=[0,1,2])\n",
    "        job = execute(qobj, Aer.get_backend('qasm_simulator'), \n",
    "                      basis_gates=basis_gates,shots=nshots, \n",
    "                      noise_model=noise_model)\n",
    "        Uy = obtain_result(job,nshots,N**2)\n",
    "        ChernNum006_1[nd,n_repeat] = get_Chern(kx,ky,Ux,Uy)\n",
    "    print(n_repeat)"
   ]
  },
  {
   "cell_type": "code",
   "execution_count": 13,
   "metadata": {},
   "outputs": [
    {
     "name": "stdout",
     "output_type": "stream",
     "text": [
      "[1.9899 1.9909 1.9919 1.9929 1.9939 1.9949 1.9959 1.9969 1.9979 1.9989\n",
      " 1.9999 2.0009 2.0019 2.0029 2.0039 2.0049 2.0059 2.0069 2.0079 2.0089\n",
      " 2.0099]\n"
     ]
    }
   ],
   "source": [
    "Dlist2=np.linspace(4-2.0101,4-1.9901,21)\n",
    "print(Dlist2)"
   ]
  },
  {
   "cell_type": "code",
   "execution_count": 15,
   "metadata": {},
   "outputs": [
    {
     "name": "stdout",
     "output_type": "stream",
     "text": [
      "0\n",
      "1\n",
      "2\n",
      "3\n",
      "4\n",
      "5\n",
      "6\n",
      "7\n",
      "8\n",
      "9\n",
      "10\n",
      "11\n",
      "12\n",
      "13\n",
      "14\n",
      "15\n",
      "16\n",
      "17\n",
      "18\n",
      "19\n",
      "20\n",
      "21\n",
      "22\n",
      "23\n",
      "24\n",
      "25\n",
      "26\n",
      "27\n",
      "28\n",
      "29\n",
      "30\n",
      "31\n",
      "32\n",
      "33\n",
      "34\n",
      "35\n",
      "36\n",
      "37\n",
      "38\n",
      "39\n",
      "40\n",
      "41\n",
      "42\n",
      "43\n",
      "44\n",
      "45\n",
      "46\n",
      "47\n",
      "48\n",
      "49\n"
     ]
    }
   ],
   "source": [
    "Dlist2=np.linspace(4-2.0101,4-1.9901,21)\n",
    "ChernNum006_2 = np.zeros((len(Dlist2),50),dtype=float)\n",
    "for n_repeat in range(50):\n",
    "    for nd, Delta in enumerate(Dlist2):\n",
    "        gap = Delta\n",
    "        ## x-links\n",
    "        circx = Ux_circuit(Delta, kx, ky, Dkx)\n",
    "        qobj=qiskit.transpile(circx,initial_layout=[0,1,2])\n",
    "        job = execute(qobj, Aer.get_backend('qasm_simulator'), \n",
    "                      basis_gates=basis_gates,shots=nshots, \n",
    "                      noise_model=noise_model)\n",
    "        Ux = obtain_result(job,nshots,N**2)\n",
    "        ## y-links\n",
    "        circy = Uy_circuit(Delta, kx, ky, Dky)\n",
    "        qobj=qiskit.transpile(circy,initial_layout=[0,1,2])\n",
    "        job = execute(qobj, Aer.get_backend('qasm_simulator'), \n",
    "                      basis_gates=basis_gates,shots=nshots, \n",
    "                      noise_model=noise_model)\n",
    "        Uy = obtain_result(job,nshots,N**2)\n",
    "        ChernNum006_2[nd,n_repeat] = get_Chern(kx,ky,Ux,Uy)\n",
    "    print(n_repeat)"
   ]
  },
  {
   "cell_type": "code",
   "execution_count": 25,
   "metadata": {},
   "outputs": [
    {
     "data": {
      "image/png": "[encoded data removed]",
      "text/plain": [
       "<Figure size 432x288 with 1 Axes>"
      ]
     },
     "metadata": {
      "needs_background": "light"
     },
     "output_type": "display_data"
    }
   ],
   "source": [
    "fig, axs = plt.subplots(1, 1)\n",
    "axs.plot(Dlist1,np.mean(ChernNum006_1,axis=1),'-o')\n",
    "axs.set_ylabel(r'Chern Number $\\mathcal{C}$',fontsize=16)\n",
    "axs.set_xlabel(r'$\\mu$',fontsize=16)\n",
    "axs.set_xticks([-0.01,-0.005,0,0.005,0.01])\n",
    "axs.set_xticklabels(['-0.01','-0.005','0','0.005','0.01'])\n",
    "plt.savefig('close_critical_1.pdf', bbox_inches='tight')"
   ]
  },
  {
   "cell_type": "code",
   "execution_count": 26,
   "metadata": {},
   "outputs": [
    {
     "data": {
      "image/png": "[encoded data removed]",
      "text/plain": [
       "<Figure size 432x288 with 1 Axes>"
      ]
     },
     "metadata": {
      "needs_background": "light"
     },
     "output_type": "display_data"
    }
   ],
   "source": [
    "fig, axs = plt.subplots(1, 1)\n",
    "axs.plot(Dlist2,np.mean(ChernNum006_2,axis=1),'-o')\n",
    "axs.set_ylabel(r'Chern Number $\\mathcal{C}$',fontsize=16)\n",
    "axs.set_xlabel(r'$\\mu$',fontsize=16)\n",
    "axs.set_xticks([1.99,1.995,2,2.005,2.01])\n",
    "axs.set_xticklabels(['1.99','1.995','2','2.005','2.01'])\n",
    "plt.savefig('close_critical_2.pdf', bbox_inches='tight')"
   ]
  },
  {
   "cell_type": "code",
   "execution_count": 21,
   "metadata": {},
   "outputs": [],
   "source": [
    "backend_sim = BasicAer.get_backend('qasm_simulator')\n",
    "nshots=1024*5\n",
    "\n",
    "# Error probabilities 010\n",
    "prob_1 = 0.007  # 1-qubit gate\n",
    "prob_2 = 10*prob_1   # 2-qubit gate\n",
    "\n",
    "# Depolarizing quantum errors\n",
    "error_1 = noise.depolarizing_error(prob_1, 1)\n",
    "error_2 = noise.depolarizing_error(prob_2, 2)\n",
    "\n",
    "# Add errors to noise model\n",
    "noise_model = noise.NoiseModel()\n",
    "noise_model.add_all_qubit_quantum_error(error_1, ['u1', 'u2', 'u3'])\n",
    "noise_model.add_all_qubit_quantum_error(error_2, ['cx'])\n",
    "\n",
    "# Get basis gates from noise model\n",
    "basis_gates = noise_model.basis_gates"
   ]
  },
  {
   "cell_type": "code",
   "execution_count": 22,
   "metadata": {},
   "outputs": [
    {
     "name": "stdout",
     "output_type": "stream",
     "text": [
      "0\n",
      "1\n",
      "2\n",
      "3\n",
      "4\n",
      "5\n",
      "6\n",
      "7\n",
      "8\n",
      "9\n",
      "10\n",
      "11\n",
      "12\n",
      "13\n",
      "14\n",
      "15\n",
      "16\n",
      "17\n",
      "18\n",
      "19\n",
      "20\n",
      "21\n",
      "22\n",
      "23\n",
      "24\n",
      "25\n",
      "26\n",
      "27\n",
      "28\n",
      "29\n",
      "30\n",
      "31\n",
      "32\n",
      "33\n",
      "34\n",
      "35\n",
      "36\n",
      "37\n",
      "38\n",
      "39\n",
      "40\n",
      "41\n",
      "42\n",
      "43\n",
      "44\n",
      "45\n",
      "46\n",
      "47\n",
      "48\n",
      "49\n"
     ]
    }
   ],
   "source": [
    "Dlist=np.linspace(-2.1,-1.9,21)\n",
    "ChernNum005 = np.zeros((len(Dlist),50),dtype=float)\n",
    "for n_repeat in range(50):\n",
    "    for nd, Delta in enumerate(Dlist):\n",
    "        gap = Delta\n",
    "        ## x-links\n",
    "        circx = Ux_circuit(Delta, kx, ky, Dkx)\n",
    "        qobj=qiskit.transpile(circx,initial_layout=[0,1,2])\n",
    "        job = execute(qobj, Aer.get_backend('qasm_simulator'), \n",
    "                      basis_gates=basis_gates,shots=nshots, \n",
    "                      noise_model=noise_model)\n",
    "        Ux = obtain_result(job,nshots,N**2)\n",
    "        ## y-links\n",
    "        circy = Uy_circuit(Delta, kx, ky, Dky)\n",
    "        qobj=qiskit.transpile(circy,initial_layout=[0,1,2])\n",
    "        job = execute(qobj, Aer.get_backend('qasm_simulator'), \n",
    "                      basis_gates=basis_gates,shots=nshots, \n",
    "                      noise_model=noise_model)\n",
    "        Uy = obtain_result(job,nshots,N**2)\n",
    "        ChernNum005[nd,n_repeat] = get_Chern(kx,ky,Ux,Uy)\n",
    "    print(n_repeat)"
   ]
  },
  {
   "cell_type": "code",
   "execution_count": 23,
   "metadata": {},
   "outputs": [
    {
     "name": "stdout",
     "output_type": "stream",
     "text": [
      "0\n",
      "1\n",
      "2\n",
      "3\n",
      "4\n",
      "5\n",
      "6\n",
      "7\n",
      "8\n",
      "9\n",
      "10\n",
      "11\n",
      "12\n",
      "13\n",
      "14\n",
      "15\n",
      "16\n",
      "17\n",
      "18\n",
      "19\n",
      "20\n",
      "21\n",
      "22\n",
      "23\n",
      "24\n",
      "25\n",
      "26\n",
      "27\n",
      "28\n",
      "29\n",
      "30\n",
      "31\n",
      "32\n",
      "33\n",
      "34\n",
      "35\n",
      "36\n",
      "37\n",
      "38\n",
      "39\n",
      "40\n",
      "41\n",
      "42\n",
      "43\n",
      "44\n",
      "45\n",
      "46\n",
      "47\n",
      "48\n",
      "49\n"
     ]
    }
   ],
   "source": [
    "Dlist1=np.linspace(-0.1,0.1,21)\n",
    "ChernNum005_1 = np.zeros((len(Dlist),50),dtype=float)\n",
    "for n_repeat in range(50):\n",
    "    for nd, Delta in enumerate(Dlist):\n",
    "        gap = Delta\n",
    "        ## x-links\n",
    "        circx = Ux_circuit(Delta, kx, ky, Dkx)\n",
    "        qobj=qiskit.transpile(circx,initial_layout=[0,1,2])\n",
    "        job = execute(qobj, Aer.get_backend('qasm_simulator'), \n",
    "                      basis_gates=basis_gates,shots=nshots, \n",
    "                      noise_model=noise_model)\n",
    "        Ux = obtain_result(job,nshots,N**2)\n",
    "        ## y-links\n",
    "        circy = Uy_circuit(Delta, kx, ky, Dky)\n",
    "        qobj=qiskit.transpile(circy,initial_layout=[0,1,2])\n",
    "        job = execute(qobj, Aer.get_backend('qasm_simulator'), \n",
    "                      basis_gates=basis_gates,shots=nshots, \n",
    "                      noise_model=noise_model)\n",
    "        Uy = obtain_result(job,nshots,N**2)\n",
    "        ChernNum005_1[nd,n_repeat] = get_Chern(kx,ky,Ux,Uy)\n",
    "    print(n_repeat)"
   ]
  },
  {
   "cell_type": "code",
   "execution_count": 24,
   "metadata": {},
   "outputs": [
    {
     "name": "stdout",
     "output_type": "stream",
     "text": [
      "0\n",
      "1\n",
      "2\n",
      "3\n",
      "4\n",
      "5\n",
      "6\n",
      "7\n",
      "8\n",
      "9\n",
      "10\n",
      "11\n",
      "12\n",
      "13\n",
      "14\n",
      "15\n",
      "16\n",
      "17\n",
      "18\n",
      "19\n",
      "20\n",
      "21\n",
      "22\n",
      "23\n",
      "24\n",
      "25\n",
      "26\n",
      "27\n",
      "28\n",
      "29\n",
      "30\n",
      "31\n",
      "32\n",
      "33\n",
      "34\n",
      "35\n",
      "36\n",
      "37\n",
      "38\n",
      "39\n",
      "40\n",
      "41\n",
      "42\n",
      "43\n",
      "44\n",
      "45\n",
      "46\n",
      "47\n",
      "48\n",
      "49\n"
     ]
    }
   ],
   "source": [
    "Dlist2=np.linspace(1.9,2.1,21)\n",
    "ChernNum005_2 = np.zeros((len(Dlist),50),dtype=float)\n",
    "for n_repeat in range(50):\n",
    "    for nd, Delta in enumerate(Dlist):\n",
    "        gap = Delta\n",
    "        ## x-links\n",
    "        circx = Ux_circuit(Delta, kx, ky, Dkx)\n",
    "        qobj=qiskit.transpile(circx,initial_layout=[0,1,2])\n",
    "        job = execute(qobj, Aer.get_backend('qasm_simulator'), \n",
    "                      basis_gates=basis_gates,shots=nshots, \n",
    "                      noise_model=noise_model)\n",
    "        Ux = obtain_result(job,nshots,N**2)\n",
    "        ## y-links\n",
    "        circy = Uy_circuit(Delta, kx, ky, Dky)\n",
    "        qobj=qiskit.transpile(circy,initial_layout=[0,1,2])\n",
    "        job = execute(qobj, Aer.get_backend('qasm_simulator'), \n",
    "                      basis_gates=basis_gates,shots=nshots, \n",
    "                      noise_model=noise_model)\n",
    "        Uy = obtain_result(job,nshots,N**2)\n",
    "        ChernNum005_2[nd,n_repeat] = get_Chern(kx,ky,Ux,Uy)\n",
    "    print(n_repeat)"
   ]
  },
  {
   "cell_type": "code",
   "execution_count": 25,
   "metadata": {},
   "outputs": [
    {
     "data": {
      "text/plain": [
       "[<matplotlib.lines.Line2D at 0x150ba6f4e88>]"
      ]
     },
     "execution_count": 25,
     "metadata": {},
     "output_type": "execute_result"
    },
    {
     "data": {
      "image/png": "[encoded data removed]",
      "text/plain": [
       "<Figure size 432x288 with 1 Axes>"
      ]
     },
     "metadata": {
      "needs_background": "light"
     },
     "output_type": "display_data"
    }
   ],
   "source": [
    "plt.plot(Dlist,np.mean(ChernNum005,axis=1),'-o')"
   ]
  },
  {
   "cell_type": "code",
   "execution_count": 26,
   "metadata": {},
   "outputs": [
    {
     "data": {
      "text/plain": [
       "[<matplotlib.lines.Line2D at 0x150be164908>]"
      ]
     },
     "execution_count": 26,
     "metadata": {},
     "output_type": "execute_result"
    },
    {
     "data": {
      "image/png": "[encoded data removed]",
      "text/plain": [
       "<Figure size 432x288 with 1 Axes>"
      ]
     },
     "metadata": {
      "needs_background": "light"
     },
     "output_type": "display_data"
    }
   ],
   "source": [
    "plt.plot(Dlist1,np.mean(ChernNum005_1,axis=1),'-o')"
   ]
  },
  {
   "cell_type": "code",
   "execution_count": 27,
   "metadata": {},
   "outputs": [
    {
     "data": {
      "text/plain": [
       "[<matplotlib.lines.Line2D at 0x150be6c0108>]"
      ]
     },
     "execution_count": 27,
     "metadata": {},
     "output_type": "execute_result"
    },
    {
     "data": {
      "image/png": "[encoded data removed]",
      "text/plain": [
       "<Figure size 432x288 with 1 Axes>"
      ]
     },
     "metadata": {
      "needs_background": "light"
     },
     "output_type": "display_data"
    }
   ],
   "source": [
    "plt.plot(Dlist2,np.mean(ChernNum005_2,axis=1),'-o')"
   ]
  },
  {
   "cell_type": "code",
   "execution_count": 28,
   "metadata": {},
   "outputs": [],
   "source": [
    "np.save(\"006_R1_001.npy\",ChernNum006)\n",
    "np.save(\"006_R2_001.npy\",ChernNum006_1)\n",
    "np.save(\"006_R3_001.npy\",ChernNum006_2)"
   ]
  },
  {
   "cell_type": "code",
   "execution_count": 29,
   "metadata": {},
   "outputs": [],
   "source": [
    "np.save(\"point_R1_001.npy\",Dlist)\n",
    "np.save(\"point_R2_001.npy\",Dlist1)\n",
    "np.save(\"point_R3_001.npy\",Dlist2)"
   ]
  },
  {
   "cell_type": "code",
   "execution_count": 30,
   "metadata": {},
   "outputs": [],
   "source": [
    "np.save(\"005_R1_001.npy\",ChernNum005)\n",
    "np.save(\"005_R2_001.npy\",ChernNum005_1)\n",
    "np.save(\"005_R3_001.npy\",ChernNum005_2)"
   ]
  },
  {
   "cell_type": "code",
   "execution_count": 31,
   "metadata": {},
   "outputs": [
    {
     "data": {
      "text/plain": [
       "(21, 50)"
      ]
     },
     "execution_count": 31,
     "metadata": {},
     "output_type": "execute_result"
    }
   ],
   "source": [
    "np.shape(ChernNum006)"
   ]
  },
  {
   "cell_type": "code",
   "execution_count": 36,
   "metadata": {},
   "outputs": [],
   "source": [
    "a=np.load(\"005_R1_001.npy\")"
   ]
  },
  {
   "cell_type": "code",
   "execution_count": 37,
   "metadata": {},
   "outputs": [
    {
     "data": {
      "text/plain": [
       "(21, 50)"
      ]
     },
     "execution_count": 37,
     "metadata": {},
     "output_type": "execute_result"
    }
   ],
   "source": [
    "a.shape"
   ]
  },
  {
   "cell_type": "code",
   "execution_count": null,
   "metadata": {},
   "outputs": [],
   "source": []
  }
 ],
 "metadata": {
  "kernelspec": {
   "display_name": "Python 3",
   "language": "python",
   "name": "python3"
  },
  "language_info": {
   "codemirror_mode": {
    "name": "ipython",
    "version": 3
   },
   "file_extension": ".py",
   "mimetype": "text/x-python",
   "name": "python",
   "nbconvert_exporter": "python",
   "pygments_lexer": "ipython3",
   "version": "3.7.4"
  }
 },
 "nbformat": 4,
 "nbformat_minor": 2
}

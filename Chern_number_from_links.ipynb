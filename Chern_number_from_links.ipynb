{
 "cells": [
  {
   "cell_type": "code",
   "execution_count": 1,
   "metadata": {},
   "outputs": [],
   "source": [
    "import numpy as np\n",
    "import numpy.linalg as LA\n",
    "import matplotlib.pyplot as plt\n",
    "from math import pi\n",
    "from scipy.linalg import expm\n",
    "from scipy.optimize import minimize"
   ]
  },
  {
   "cell_type": "code",
   "execution_count": 2,
   "metadata": {},
   "outputs": [],
   "source": [
    "sigmax = np.array([[0,1],[1,0]])\n",
    "sigmay = np.array([[0,-1j],[1j,0]])\n",
    "sigmaz = np.array([[1,0],[0,-1]])\n",
    "sigmap = np.array([[0,1],[0,0]])\n",
    "sigmam = np.array([[0,0],[1,0]])\n",
    "\n",
    "def String(num_string):\n",
    "    SOP = 1\n",
    "    for ns, sid in enumerate(num_string):\n",
    "        if sid == 0:\n",
    "            OP = np.eye(2)\n",
    "        elif sid==1:\n",
    "            OP = sigmax\n",
    "        elif sid==2:\n",
    "            OP = sigmay\n",
    "        elif sid==3:\n",
    "            OP = sigmaz\n",
    "        elif sid == 4:\n",
    "            OP = sigmam\n",
    "        elif sid == 5:\n",
    "            OP = sigmap\n",
    "        else:\n",
    "            pass\n",
    "        SOP = np.kron(OP,SOP)\n",
    "    return SOP\n",
    "\n",
    "def qtoclabel(num_string):\n",
    "    stat_num = 0\n",
    "    for ns, sid in enumerate(num_string):\n",
    "        stat_num = stat_num + sid*(2**ns)\n",
    "    return stat_num\n",
    "\n",
    "def qubit_state(Num,ind):\n",
    "    t0 = ind\n",
    "    d = np.zeros(Num)\n",
    "    for n in range(Num-1,0,-1):\n",
    "        d[n] = np.int_(np.floor(t0/(2**n)))\n",
    "        t0 = t0 - d[n]*2**n\n",
    "    d[0] = np.remainder(ind,2)\n",
    "    return d"
   ]
  },
  {
   "cell_type": "code",
   "execution_count": 3,
   "metadata": {},
   "outputs": [],
   "source": [
    "### single-exciation terms are represented by an array with two elements with the first one denoting creation operaotr localtion\n",
    "### and the second one for the annihilation location\n",
    "def generate_Pstring(array,N):\n",
    "    if array[0]!=array[1]:\n",
    "        M = np.zeros([1,N],dtype=int)\n",
    "        M[0,array[0]] = 4\n",
    "        M[0,array[1]] = 5\n",
    "        for n in range(np.min(array)+1,np.max(array),1):\n",
    "            M[0,n] = 3\n",
    "        sgn = np.array([1])\n",
    "    else:\n",
    "        M = np.zeros((2,N),dtype=int)\n",
    "        M[1,array[0]]=3\n",
    "        sgn = np.array([1/2,-1/2])\n",
    "    return M, sgn\n",
    "\n",
    "def generate_matrix_from_CA(array,N):\n",
    "    ## here the even index of array is for the location of creation operator, and odd index for the annihilation operator\n",
    "    L = len(array)\n",
    "    Ne = np.int(L/2) # number of exciations\n",
    "    ### get Pauli string arrays\n",
    "    Pstr=[]\n",
    "    Sgn_arr = []\n",
    "    for n in range(Ne):\n",
    "        A, B = generate_Pstring(np.array([array[2*n],array[2*n+1]]),N)\n",
    "        Pstr.append(A)\n",
    "        Sgn_arr.append(B)\n",
    "    H1e = np.eye(2**N,2**N);\n",
    "    for n in range(Ne):\n",
    "        A = np.zeros((2**N,2**N),dtype=complex)\n",
    "        for n1 in range(len(Sgn_arr[n])):\n",
    "            A = A + String(Pstr[n][n1,:])*Sgn_arr[n][n1]\n",
    "        H1e = np.dot(H1e,A)\n",
    "    return H1e"
   ]
  },
  {
   "cell_type": "code",
   "execution_count": 4,
   "metadata": {},
   "outputs": [],
   "source": [
    "def get_Ham_tot(t,kx,ky,array,N):\n",
    "    Hop = np.zeros((2**N,2**N),dtype=complex)\n",
    "    coef = np.array([-t,-t,-t*np.cos(3*kx),1j*t*np.sin(3*kx),-t,-t,-t*np.cos(3*kx),-1j*t*np.sin(3*kx), \\\n",
    "                     -2*t*np.cos(ky),-2*t*np.cos(ky+2*pi/3),-2*t*np.cos(ky+4*pi/3)])\n",
    "    for n in range(len(coef)):\n",
    "        Hop = Hop + generate_matrix_from_CA(array[n,:],N)*coef[n]\n",
    "    return Hop"
   ]
  },
  {
   "cell_type": "code",
   "execution_count": 5,
   "metadata": {},
   "outputs": [],
   "source": [
    "def find_min_half(psi,Eng):\n",
    "    on1 = (String(np.array([0,0,0])) - String(np.array([3,0,0])))/2\n",
    "    on2 = (String(np.array([0,0,0])) - String(np.array([0,3,0])))/2\n",
    "    on3 = (String(np.array([0,0,0])) - String(np.array([0,0,3])))/2\n",
    "    half_state = np.array([],dtype=int)\n",
    "    for n in range(len(Eng)):\n",
    "        if np.allclose(np.dot(psi[:,n].conj().T,np.dot(on1+on2+on3,psi[:,n])),2):\n",
    "            half_state = np.append(half_state,np.int(n))\n",
    "    return half_state"
   ]
  },
  {
   "cell_type": "code",
   "execution_count": 6,
   "metadata": {},
   "outputs": [],
   "source": [
    "## CA string for the bulk x hopping\n",
    "arrayhop_f = np.array([[0,1],[1,2],[0,2],[0,2]])\n",
    "arrayhop_b = np.array([[1,0],[2,1],[2,0],[2,0]])\n",
    "\n",
    "array_hop = np.vstack((arrayhop_f,arrayhop_b))\n",
    "\n",
    "## CA string for the on-site potential\n",
    "array_on = np.array([[0,0],[1,1],[2,2]])\n",
    "\n",
    "array_tot = np.vstack((array_hop,array_on))"
   ]
  },
  {
   "cell_type": "code",
   "execution_count": 7,
   "metadata": {},
   "outputs": [],
   "source": [
    "def build_opt(vec1,vec2):\n",
    "    in_product = np.dot(vec1.conj().T,vec2)\n",
    "\n",
    "    U = in_product / np.abs(in_product)\n",
    "\n",
    "    return U\n",
    "\n",
    "def Xlink(t,Dkx,kx,ky,array):\n",
    "    Nx = len(kx)\n",
    "    Ny = len(ky)\n",
    "    Ux = np.zeros((Nx*Ny),complex)\n",
    "    for nx in range(Nx):\n",
    "        for ny in range(Ny):\n",
    "            Hmol = get_Ham_tot(t,kx[nx],ky[ny],array,3)\n",
    "            # initial basis\n",
    "            Emany, Vmany = np.linalg.eig(Hmol)\n",
    "            idx = Emany.argsort()[::+1]\n",
    "            Eng = Emany[idx]\n",
    "            WF = Vmany[:,idx]\n",
    "            psi = WF[:,find_min_half(WF,Eng)[0]]\n",
    "            ############\n",
    "            Hmol = get_Ham_tot(t,kx[nx]+Dkx,ky[ny],array,3)\n",
    "            Emany, Vmany = np.linalg.eig(Hmol)\n",
    "            idx = Emany.argsort()[::+1]\n",
    "            Eng = Emany[idx]\n",
    "            WF = Vmany[:,idx]\n",
    "            psiDx = WF[:,find_min_half(WF,Eng)[0]]\n",
    "            Ux[nx*Ny+ny] = build_opt(psiDx, psi )\n",
    "    return Ux\n",
    "\n",
    "def Ylink(t,Dky,kx,ky,array):\n",
    "    Nx = len(kx)\n",
    "    Ny = len(ky)\n",
    "    Uy = np.zeros((Nx*Ny),complex)\n",
    "    for nx in range(Nx):\n",
    "        for ny in range(Ny):\n",
    "            Hmol = get_Ham_tot(t,kx[nx],ky[ny],array,3)\n",
    "            # initial basis\n",
    "            Emany, Vmany = np.linalg.eig(Hmol)\n",
    "            idx = Emany.argsort()[::+1]\n",
    "            Eng = Emany[idx]\n",
    "            WF = Vmany[:,idx]\n",
    "            psi = WF[:,find_min_half(WF,Eng)[0]]\n",
    "            ############\n",
    "            # many-body Hamiltonian\n",
    "            Hmol = get_Ham_tot(t,kx[nx],ky[ny]+Dky,array,3)\n",
    "            Emany, Vmany = np.linalg.eig(Hmol)\n",
    "            idx = Emany.argsort()[::+1]\n",
    "            Eng = Emany[idx]\n",
    "            WF = Vmany[:,idx]\n",
    "            psiDy = WF[:,find_min_half(WF,Eng)[0]]\n",
    "            Uy[nx*Ny+ny] = build_opt(psiDy, psi )\n",
    "    return Uy"
   ]
  },
  {
   "cell_type": "code",
   "execution_count": 8,
   "metadata": {},
   "outputs": [],
   "source": [
    "def get_Chern(kx,ky,Ux,Uy):\n",
    "    sumNc = 0\n",
    "    Nx = len(kx)\n",
    "    Ny = len(ky)\n",
    "    for nx in range(len(kx)):\n",
    "        for ny in range(len(ky)):\n",
    "            U1x = Ux[nx*Ny+ny]\n",
    "            U2y = Uy[nx*Ny+ny]\n",
    "            if ny+1==Ny:\n",
    "                U1y = Ux[nx*Ny]\n",
    "            else:\n",
    "                U1y = Ux[nx*Ny+(ny+1)]\n",
    "            if nx+1==Nx:\n",
    "                U2x = Uy[ny]\n",
    "            else:\n",
    "                U2x = Uy[(nx+1)*Ny+ny]\n",
    "            LF = np.log( U1x * U2x * 1./U1y * 1./U2y)\n",
    "            sumNc += LF\n",
    "    chernN = sumNc.imag/(2.*np.pi)\n",
    "    return chernN"
   ]
  },
  {
   "cell_type": "code",
   "execution_count": 9,
   "metadata": {},
   "outputs": [],
   "source": [
    "Nx = 3\n",
    "Ny = 8\n",
    "\n",
    "kx = np.arange(0,Nx,1)*(2*pi/3)/Nx\n",
    "ky = np.arange(0,Ny,1)*2*pi/Ny+0.1\n",
    "\n",
    "Dkx = ((2.*pi)/3)/Nx\n",
    "Dky = (2.*pi)/Ny\n",
    "\n",
    "Ux = Xlink(1,Dkx,kx,ky,array_tot)\n",
    "Uy = Ylink(1,Dky,kx,ky,array_tot)"
   ]
  },
  {
   "cell_type": "code",
   "execution_count": 10,
   "metadata": {},
   "outputs": [
    {
     "data": {
      "text/plain": [
       "array([0.99780532-0.06621586j, 0.99999476-0.00323846j,\n",
       "       0.99975594+0.02209213j, 0.99986232-0.01659348j,\n",
       "       0.99876421+0.04969953j, 0.8569963 +0.51532256j,\n",
       "       0.99472565-0.10257136j, 0.99988596-0.01510193j,\n",
       "       0.99664862+0.0818018j , 0.99998578+0.00533256j,\n",
       "       0.99946774-0.03262264j, 0.98492607+0.17297582j,\n",
       "       0.98761274+0.15691106j, 0.81819442+0.57494165j,\n",
       "       0.9732578 -0.22971559j, 0.98999688-0.14108925j,\n",
       "       0.99780532-0.06621586j, 0.99999476-0.00323846j,\n",
       "       0.99975594+0.02209213j, 0.99986232-0.01659348j,\n",
       "       0.99876421+0.04969953j, 0.8569963 +0.51532256j,\n",
       "       0.99472565-0.10257136j, 0.99988596-0.01510193j])"
      ]
     },
     "execution_count": 10,
     "metadata": {},
     "output_type": "execute_result"
    }
   ],
   "source": [
    "Ux"
   ]
  },
  {
   "cell_type": "code",
   "execution_count": 11,
   "metadata": {},
   "outputs": [
    {
     "data": {
      "text/plain": [
       "array([ 1.        +0.j        ,  1.        +0.j        ,\n",
       "        1.        +0.j        ,  1.        +0.j        ,\n",
       "        1.        +0.j        , -1.        +0.j        ,\n",
       "        1.        +0.j        ,  1.        +0.j        ,\n",
       "        0.99981283-0.01934673j,  0.99987242-0.01597297j,\n",
       "        0.98010841-0.19846284j,  0.99986494-0.01643503j,\n",
       "        0.99982775-0.01855983j,  0.66111613+0.75028359j,\n",
       "        0.99988421-0.01521751j,  0.98044475-0.19679453j,\n",
       "        0.99981283+0.01934673j,  0.99987242+0.01597297j,\n",
       "        0.98010841+0.19846284j,  0.99986494+0.01643503j,\n",
       "        0.99982775+0.01855983j,  0.66111613-0.75028359j,\n",
       "        0.99988421+0.01521751j,  0.98044475+0.19679453j])"
      ]
     },
     "execution_count": 11,
     "metadata": {},
     "output_type": "execute_result"
    }
   ],
   "source": [
    "Uy"
   ]
  },
  {
   "cell_type": "code",
   "execution_count": 12,
   "metadata": {},
   "outputs": [],
   "source": [
    "Nx = len(kx)\n",
    "Ny = len(ky)\n",
    "LF = np.zeros(24,dtype=complex)\n",
    "LF1 = np.zeros(24,dtype=complex)\n",
    "for nx in range(len(kx)):\n",
    "    for ny in range(len(ky)):\n",
    "        U1x = Ux[nx*Ny+ny]\n",
    "        U2y = Uy[nx*Ny+ny]\n",
    "        if ny+1==Ny:\n",
    "            U1y = Ux[nx*Ny]\n",
    "        else:\n",
    "            U1y = Ux[nx*Ny+(ny+1)]\n",
    "        if nx+1==Nx:\n",
    "            U2x = Uy[ny]\n",
    "        else:\n",
    "            U2x = Uy[(nx+1)*Ny+ny]\n",
    "        LF[nx*Ny+ny] = np.log( U1x * U2x * 1./U1y * 1./U2y)\n",
    "        LF1[nx*Ny+ny] = np.log(U1x) + np.log(U2x) - np.log(U1y) - np.log(U2y)"
   ]
  },
  {
   "cell_type": "code",
   "execution_count": 13,
   "metadata": {},
   "outputs": [
    {
     "data": {
      "text/plain": [
       "[<matplotlib.lines.Line2D at 0x26ed6c15448>]"
      ]
     },
     "execution_count": 13,
     "metadata": {},
     "output_type": "execute_result"
    },
    {
     "data": {
      "image/png": "[encoded data removed]",
      "text/plain": [
       "<Figure size 432x288 with 1 Axes>"
      ]
     },
     "metadata": {
      "needs_background": "light"
     },
     "output_type": "display_data"
    }
   ],
   "source": [
    "plt.plot(np.real((LF-LF1)/(2j*pi)),'o')"
   ]
  },
  {
   "cell_type": "markdown",
   "metadata": {},
   "source": [
    "### Then the Chern number is obtained by summing over the differences shown in the figure above, which is $-1$. As a comparison, we can directly calculate the Chern number from LF, which is done by calling get_chern subroutine. The results are consistent as expected."
   ]
  },
  {
   "cell_type": "code",
   "execution_count": 14,
   "metadata": {},
   "outputs": [
    {
     "data": {
      "text/plain": [
       "-1.0000000000000002"
      ]
     },
     "execution_count": 14,
     "metadata": {},
     "output_type": "execute_result"
    }
   ],
   "source": [
    "get_Chern(kx,ky,Ux,Uy)"
   ]
  },
  {
   "cell_type": "markdown",
   "metadata": {},
   "source": [
    "### detailed examples for the two local gauge fields"
   ]
  },
  {
   "cell_type": "code",
   "execution_count": 15,
   "metadata": {},
   "outputs": [
    {
     "name": "stdout",
     "output_type": "stream",
     "text": [
      "(0.9978053217647059-0.06621585805554235j) (1+0j) (0.9999947561595762-0.003238464659293691j) (0.9998128344457947-0.01934673299205348j)\n"
     ]
    }
   ],
   "source": [
    "# for plaquette 1\n",
    "# show the gauge field values on the links\n",
    "\n",
    "nx = 0\n",
    "ny = 0\n",
    "\n",
    "Ux_1 = Ux[nx*Ny+ny]\n",
    "Uy_1 = Uy[nx*Ny+ny]\n",
    "Ux_2 = Ux[nx*Ny+(ny+1)]\n",
    "Uy_9 = Uy[(nx+1)*Ny+ny]\n",
    "print(Ux_1,Uy_1,Ux_2,Uy_9)"
   ]
  },
  {
   "cell_type": "code",
   "execution_count": 16,
   "metadata": {},
   "outputs": [
    {
     "name": "stdout",
     "output_type": "stream",
     "text": [
      "(1.0668549377257362e-16-0.08237381123102223j) (9.539962678335736e-17-0.08237381123102223j)\n"
     ]
    }
   ],
   "source": [
    "### obtain the two local gauge field by following Eq.(2) and Eq.(34) respectively\n",
    "LF_1 = np.log( Ux_1 * Uy_9 * 1./Ux_2 * 1./Uy_1)\n",
    "LF_1P = np.log(Ux_1) + np.log(Uy_9) - np.log(Ux_2) - np.log(Uy_1)\n",
    "print(LF_1,LF_1P)"
   ]
  },
  {
   "cell_type": "code",
   "execution_count": 17,
   "metadata": {},
   "outputs": [
    {
     "name": "stdout",
     "output_type": "stream",
     "text": [
      "(0.8569963006031104+0.515322559910376j) (0.6611161323737582-0.750283586062739j) (0.9947256490940544-0.10257135581833862j) (-1+0j)\n"
     ]
    }
   ],
   "source": [
    "# for plaquette 21\n",
    "# show the gauge field values on the links\n",
    "\n",
    "nx = 2\n",
    "ny = 5\n",
    "\n",
    "Ux_21 = Ux[nx*Ny+ny]\n",
    "Uy_21 = Uy[nx*Ny+ny]\n",
    "Ux_22 = Ux[nx*Ny+(ny+1)]\n",
    "Uy_6 = Uy[ny]\n",
    "print(Ux_21,Uy_21,Ux_22,Uy_6)"
   ]
  },
  {
   "cell_type": "code",
   "execution_count": 18,
   "metadata": {},
   "outputs": [
    {
     "name": "stdout",
     "output_type": "stream",
     "text": [
      "(-3.6862873864507166e-16-1.648965667999456j) (-1.7000290064572712e-16+4.634219639180131j)\n",
      "(-1.0000000000000002+3.16122839433657e-17j)\n"
     ]
    }
   ],
   "source": [
    "### obtain the two local gauge field by following Eq.(2) and Eq.(34) respectively\n",
    "LF_21 = np.log( Ux_21 * Uy_6 * 1./Ux_22 * 1./Uy_21)\n",
    "LF_21P = np.log(Ux_21) + np.log(Uy_6) - np.log(Ux_22) - np.log(Uy_21)\n",
    "print(LF_21,LF_21P)\n",
    "print((LF_21-LF_21P)/(2j*pi))"
   ]
  },
  {
   "cell_type": "code",
   "execution_count": null,
   "metadata": {},
   "outputs": [],
   "source": []
  }
 ],
 "metadata": {
  "kernelspec": {
   "display_name": "Python 3",
   "language": "python",
   "name": "python3"
  },
  "language_info": {
   "codemirror_mode": {
    "name": "ipython",
    "version": 3
   },
   "file_extension": ".py",
   "mimetype": "text/x-python",
   "name": "python",
   "nbconvert_exporter": "python",
   "pygments_lexer": "ipython3",
   "version": "3.7.4"
  }
 },
 "nbformat": 4,
 "nbformat_minor": 2
}
